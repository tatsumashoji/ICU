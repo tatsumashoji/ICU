{
 "cells": [
  {
   "cell_type": "markdown",
   "metadata": {},
   "source": [
    "# 1. Description"
   ]
  },
  {
   "cell_type": "markdown",
   "metadata": {},
   "source": [
    "This notebook will produce the sepsis group (4,226 cases) and the non-sepsis group (23,170 cases) described in the paper \"Prediction of the ICU mortality based on the missing events.\"."
   ]
  },
  {
   "cell_type": "markdown",
   "metadata": {},
   "source": [
    "# 2. Before running..."
   ]
  },
  {
   "cell_type": "markdown",
   "metadata": {},
   "source": [
    "Before proceeding the followings, plaease solve the python environment accordingly first. This program requires the following libraries."
   ]
  },
  {
   "cell_type": "code",
   "execution_count": 1,
   "metadata": {},
   "outputs": [],
   "source": [
    "import pandas as pd # 1.2.1\n",
    "import numpy as np # 1.20.2"
   ]
  },
  {
   "cell_type": "markdown",
   "metadata": {},
   "source": [
    "Then please put the eICU files at the appropriate directory so that the program reaches the input files. To test if you correctly set the input files, run the below. If you could, the cell would not end without errors."
   ]
  },
  {
   "cell_type": "code",
   "execution_count": 2,
   "metadata": {},
   "outputs": [],
   "source": [
    "df_patient = pd.read_csv(\"data/patient.csv\")\n",
    "df_apachePredVar = pd.read_csv(\"data/apachePredVar.csv\")\n",
    "df_apacheApsVar = pd.read_csv(\"data/apacheApsVar.csv\")\n",
    "df_apachePatientResult = pd.read_csv(\"data/apachePatientResult.csv\")"
   ]
  },
  {
   "cell_type": "markdown",
   "metadata": {},
   "source": [
    "For getting the eICU files, please see \"https://www.usa.philips.com/healthcare/solutions/enterprise-telehealth/eri\" or \"https://eicu-crd.mit.edu/gettingstarted/access/\""
   ]
  },
  {
   "cell_type": "markdown",
   "metadata": {},
   "source": [
    "# 3. IDs for the sepsis group (4,226)"
   ]
  },
  {
   "cell_type": "markdown",
   "metadata": {},
   "source": [
    "## 3.1 Get all patients"
   ]
  },
  {
   "cell_type": "code",
   "execution_count": 3,
   "metadata": {},
   "outputs": [
    {
     "data": {
      "text/plain": [
       "200859"
      ]
     },
     "execution_count": 3,
     "metadata": {},
     "output_type": "execute_result"
    }
   ],
   "source": [
    "# Load\n",
    "df_patient = pd.read_csv(\"data/patient.csv\")\n",
    "len(df_patient)"
   ]
  },
  {
   "cell_type": "code",
   "execution_count": 4,
   "metadata": {},
   "outputs": [],
   "source": [
    "# Save\n",
    "df_patient[\"patientunitstayid\"].to_csv(\"ids/001_all_200859.csv\", header=False, index=False)"
   ]
  },
  {
   "cell_type": "markdown",
   "metadata": {},
   "source": [
    "## 3.2 Select the sepsis group"
   ]
  },
  {
   "cell_type": "code",
   "execution_count": 5,
   "metadata": {},
   "outputs": [
    {
     "data": {
      "text/plain": [
       "171177"
      ]
     },
     "execution_count": 5,
     "metadata": {},
     "output_type": "execute_result"
    }
   ],
   "source": [
    "# Load\n",
    "df_apachePredVar = pd.read_csv(\"data/apachePredVar.csv\")\n",
    "len(df_apachePredVar)"
   ]
  },
  {
   "cell_type": "code",
   "execution_count": 6,
   "metadata": {},
   "outputs": [
    {
     "data": {
      "text/plain": [
       "167438"
      ]
     },
     "execution_count": 6,
     "metadata": {},
     "output_type": "execute_result"
    }
   ],
   "source": [
    "# kick out the cases without admitdiagnosis.\n",
    "df_apachePredVar=df_apachePredVar.dropna(subset=['admitdiagnosis'])\n",
    "len(df_apachePredVar)"
   ]
  },
  {
   "cell_type": "code",
   "execution_count": 7,
   "metadata": {},
   "outputs": [
    {
     "data": {
      "text/plain": [
       "0       RHYTHATR\n",
       "2      SEPSISUTI\n",
       "3     SEPSISPULM\n",
       "4     RESPARREST\n",
       "5       ODSEDHYP\n",
       "6     SEPSISPULM\n",
       "7            CHF\n",
       "8       S-VALVMI\n",
       "9     S-FEMPGRAF\n",
       "10        ASTHMA\n",
       "Name: admitdiagnosis, dtype: object"
      ]
     },
     "execution_count": 7,
     "metadata": {},
     "output_type": "execute_result"
    }
   ],
   "source": [
    "# SEPSIS groups in eRI are recorded with name starting the word \"SEPSIS\"\n",
    "df_apachePredVar.admitdiagnosis.head(10)"
   ]
  },
  {
   "cell_type": "code",
   "execution_count": 8,
   "metadata": {},
   "outputs": [
    {
     "data": {
      "text/plain": [
       "array(['SEPSISUTI', 'SEPSISPULM', 'SEPSISUNK', 'SEPSISOTH', 'SEPSISGI',\n",
       "       'SEPSISCUT', 'SEPSISGYN'], dtype=object)"
      ]
     },
     "execution_count": 8,
     "metadata": {},
     "output_type": "execute_result"
    }
   ],
   "source": [
    "# Select the cases whose \"admitdiagnosis\" starts with SEPSIS\n",
    "df_apachePredVar[df_apachePredVar[\"admitdiagnosis\"].str.contains(\"SEPSIS\")][\"admitdiagnosis\"].unique()"
   ]
  },
  {
   "cell_type": "code",
   "execution_count": 9,
   "metadata": {},
   "outputs": [
    {
     "data": {
      "text/plain": [
       "167438"
      ]
     },
     "execution_count": 9,
     "metadata": {},
     "output_type": "execute_result"
    }
   ],
   "source": [
    "# Select the sepsis group\n",
    "df_sepsis = df_apachePredVar[df_apachePredVar[\"admitdiagnosis\"].str.startswith(\"SEPSIS\")]\n",
    "len(df_apachePredVar)"
   ]
  },
  {
   "cell_type": "code",
   "execution_count": 10,
   "metadata": {},
   "outputs": [],
   "source": [
    "# Save\n",
    "df_sepsis[\"patientunitstayid\"].to_csv(\"ids/002_sepsis_21980.csv\", header=False, index=False)"
   ]
  },
  {
   "cell_type": "markdown",
   "metadata": {},
   "source": [
    "## 3.3 Select the cases where APS-related variables are not missing"
   ]
  },
  {
   "cell_type": "code",
   "execution_count": 11,
   "metadata": {},
   "outputs": [
    {
     "data": {
      "text/plain": [
       "171177"
      ]
     },
     "execution_count": 11,
     "metadata": {},
     "output_type": "execute_result"
    }
   ],
   "source": [
    "# Load\n",
    "df_apacheApsVar = pd.read_csv(\"data/apacheApsVar.csv\")\n",
    "len(df_apacheApsVar)"
   ]
  },
  {
   "cell_type": "code",
   "execution_count": 12,
   "metadata": {},
   "outputs": [],
   "source": [
    "# The definition of APS\n",
    "aps=[\n",
    "    \"eyes\",\n",
    "    \"motor\",\n",
    "    \"verbal\",\n",
    "    \"wbc\",\n",
    "    \"temperature\",\n",
    "    \"respiratoryrate\",\n",
    "    \"sodium\",\n",
    "    \"heartrate\",\n",
    "    \"meanbp\",\n",
    "    \"ph\",\n",
    "    \"hematocrit\",\n",
    "    \"pao2\",\n",
    "    \"pco2\",\n",
    "    \"fio2\"\n",
    "]"
   ]
  },
  {
   "cell_type": "code",
   "execution_count": 13,
   "metadata": {},
   "outputs": [
    {
     "data": {
      "text/plain": [
       "30173"
      ]
     },
     "execution_count": 13,
     "metadata": {},
     "output_type": "execute_result"
    }
   ],
   "source": [
    "# Exclude the cases that has -1 value in any APS variables\n",
    "for i in aps:\n",
    "    df_apacheApsVar = df_apacheApsVar[df_apacheApsVar[i] != -1]\n",
    "len(df_apacheApsVar)"
   ]
  },
  {
   "cell_type": "code",
   "execution_count": 14,
   "metadata": {},
   "outputs": [
    {
     "data": {
      "text/plain": [
       "4672"
      ]
     },
     "execution_count": 14,
     "metadata": {},
     "output_type": "execute_result"
    }
   ],
   "source": [
    "# Merge\n",
    "df_sepsis_aps = pd.merge(df_sepsis, df_apacheApsVar, on=\"patientunitstayid\").drop_duplicates()\n",
    "len(df_sepsis_aps)"
   ]
  },
  {
   "cell_type": "code",
   "execution_count": 15,
   "metadata": {},
   "outputs": [],
   "source": [
    "# Save\n",
    "df_sepsis_aps[\"patientunitstayid\"].to_csv(\"ids/003_sepsis_4672.csv\", header=False, index=False)"
   ]
  },
  {
   "cell_type": "markdown",
   "metadata": {},
   "source": [
    "## 3.4 Select the cases where \"actual mortality\" is not missing"
   ]
  },
  {
   "cell_type": "code",
   "execution_count": 16,
   "metadata": {},
   "outputs": [],
   "source": [
    "# Load\n",
    "df_apachePatientResult = pd.read_csv(\"data/apachePatientResult.csv\")\n",
    "df_apachePatientResult = df_apachePatientResult[[\"patientunitstayid\", \"actualicumortality\"]]"
   ]
  },
  {
   "cell_type": "code",
   "execution_count": 17,
   "metadata": {},
   "outputs": [
    {
     "data": {
      "text/plain": [
       "4226"
      ]
     },
     "execution_count": 17,
     "metadata": {},
     "output_type": "execute_result"
    }
   ],
   "source": [
    "# Merge\n",
    "df_sepsis_aps_mortality = pd.merge(df_sepsis_aps, df_apachePatientResult, on=\"patientunitstayid\", how=\"inner\").drop_duplicates()\n",
    "len(df_sepsis_aps_mortality)"
   ]
  },
  {
   "cell_type": "code",
   "execution_count": 18,
   "metadata": {},
   "outputs": [],
   "source": [
    "# Save\n",
    "df_sepsis_aps_mortality[\"patientunitstayid\"].to_csv(\"ids/004_sepsis_aps_4226.csv\", header=False, index=False)"
   ]
  },
  {
   "cell_type": "markdown",
   "metadata": {},
   "source": [
    "# 4. IDs for the non-sepsis group (23,170)"
   ]
  },
  {
   "cell_type": "code",
   "execution_count": 19,
   "metadata": {},
   "outputs": [
    {
     "data": {
      "text/plain": [
       "171177"
      ]
     },
     "execution_count": 19,
     "metadata": {},
     "output_type": "execute_result"
    }
   ],
   "source": [
    "# Load\n",
    "df_apacheApsVar = pd.read_csv(\"data/apacheApsVar.csv\")\n",
    "len(df_apacheApsVar)"
   ]
  },
  {
   "cell_type": "code",
   "execution_count": 20,
   "metadata": {},
   "outputs": [
    {
     "data": {
      "text/plain": [
       "30173"
      ]
     },
     "execution_count": 20,
     "metadata": {},
     "output_type": "execute_result"
    }
   ],
   "source": [
    "# Exclude the cases that has -1 value in any APS variables\n",
    "for i in aps:\n",
    "    df_apacheApsVar = df_apacheApsVar[df_apacheApsVar[i] != -1]\n",
    "len(df_apacheApsVar)"
   ]
  },
  {
   "cell_type": "code",
   "execution_count": 21,
   "metadata": {},
   "outputs": [],
   "source": [
    "# Load\n",
    "df_apachePatientResult = pd.read_csv(\"data/apachePatientResult.csv\")\n",
    "df_apachePatientResult = df_apachePatientResult[[\"patientunitstayid\", \"actualicumortality\"]]"
   ]
  },
  {
   "cell_type": "code",
   "execution_count": 22,
   "metadata": {},
   "outputs": [
    {
     "data": {
      "text/plain": [
       "4226"
      ]
     },
     "execution_count": 22,
     "metadata": {},
     "output_type": "execute_result"
    }
   ],
   "source": [
    "# Merge\n",
    "df_aps_mortality = pd.merge(df_apacheApsVar, df_apachePatientResult, on=\"patientunitstayid\", how=\"inner\").drop_duplicates()\n",
    "len(df_sepsis_aps_mortality)"
   ]
  },
  {
   "cell_type": "code",
   "execution_count": 23,
   "metadata": {},
   "outputs": [
    {
     "data": {
      "text/plain": [
       "27396"
      ]
     },
     "execution_count": 23,
     "metadata": {},
     "output_type": "execute_result"
    }
   ],
   "source": [
    "# Select IDs\n",
    "ids_aps = set(df_aps_mortality[\"patientunitstayid\"])\n",
    "len(ids_aps)"
   ]
  },
  {
   "cell_type": "code",
   "execution_count": 24,
   "metadata": {},
   "outputs": [
    {
     "data": {
      "text/plain": [
       "4226"
      ]
     },
     "execution_count": 24,
     "metadata": {},
     "output_type": "execute_result"
    }
   ],
   "source": [
    "# Select 4,226 IDs\n",
    "ids_sepsis_aps = set(df_sepsis_aps_mortality[\"patientunitstayid\"])\n",
    "len(ids_sepsis_aps)"
   ]
  },
  {
   "cell_type": "code",
   "execution_count": 25,
   "metadata": {},
   "outputs": [
    {
     "data": {
      "text/plain": [
       "23170"
      ]
     },
     "execution_count": 25,
     "metadata": {},
     "output_type": "execute_result"
    }
   ],
   "source": [
    "# Get non-sepsis group IDs\n",
    "ids_nonSepsis_aps = ids_aps - set(ids_sepsis_aps)\n",
    "len(ids_nonSepsis_aps)"
   ]
  },
  {
   "cell_type": "code",
   "execution_count": 26,
   "metadata": {},
   "outputs": [],
   "source": [
    "# Save\n",
    "df_non_sepsis = pd.DataFrame(list(ids_nonSepsis_aps))\n",
    "df_non_sepsis.to_csv(\"ids/005_non_sepsis_aps_23170.csv\", header=False, index=False)"
   ]
  }
 ],
 "metadata": {
  "kernelspec": {
   "display_name": "Python 3",
   "language": "python",
   "name": "python3"
  },
  "language_info": {
   "codemirror_mode": {
    "name": "ipython",
    "version": 3
   },
   "file_extension": ".py",
   "mimetype": "text/x-python",
   "name": "python",
   "nbconvert_exporter": "python",
   "pygments_lexer": "ipython3",
   "version": "3.7.3"
  }
 },
 "nbformat": 4,
 "nbformat_minor": 2
}
